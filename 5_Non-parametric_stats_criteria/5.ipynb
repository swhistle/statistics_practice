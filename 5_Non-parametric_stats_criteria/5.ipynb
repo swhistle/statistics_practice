{
 "cells": [
  {
   "cell_type": "markdown",
   "id": "4b866d65",
   "metadata": {},
   "source": [
    "Применим непараметрический критерий Манна-Уитни-Уилкоксона к выборке и сравним, различаются ли распределения между выборками."
   ]
  },
  {
   "cell_type": "code",
   "execution_count": 2,
   "id": "b5973391",
   "metadata": {},
   "outputs": [],
   "source": [
    "from sklearn.datasets import fetch_california_housing\n",
    "\n",
    "data = fetch_california_housing(as_frame=True, return_X_y=True)\n",
    "df, target = data[0], data[1] "
   ]
  },
  {
   "cell_type": "code",
   "execution_count": 3,
   "id": "9d1c7283",
   "metadata": {},
   "outputs": [],
   "source": [
    "df_less_30_idx = df[df['HouseAge'] <= 30].index\n",
    "target_less_30 = target[df_less_30_idx]"
   ]
  },
  {
   "cell_type": "code",
   "execution_count": 4,
   "id": "708db4ed",
   "metadata": {},
   "outputs": [],
   "source": [
    "df_more_30_idx = df[df['HouseAge'] > 30].index\n",
    "target_more_30 = target[df_more_30_idx]"
   ]
  },
  {
   "cell_type": "code",
   "execution_count": 5,
   "id": "032146ae",
   "metadata": {},
   "outputs": [
    {
     "data": {
      "text/plain": [
       "MannwhitneyuResult(statistic=49651963.5, pvalue=2.1897980929033572e-14)"
      ]
     },
     "execution_count": 5,
     "metadata": {},
     "output_type": "execute_result"
    }
   ],
   "source": [
    "import scipy\n",
    "\n",
    "scipy.stats.mannwhitneyu(target_less_30, target_more_30, use_continuity=True, alternative='two-sided', axis=0, method='auto')"
   ]
  },
  {
   "cell_type": "markdown",
   "id": "7f82b6bb",
   "metadata": {},
   "source": [
    "Распределения доходов различаются, p-value=0"
   ]
  }
 ],
 "metadata": {
  "colab": {
   "collapsed_sections": [],
   "name": "HW_2.ipynb",
   "provenance": []
  },
  "kernelspec": {
   "display_name": "Python 3",
   "language": "python",
   "name": "python3"
  },
  "language_info": {
   "codemirror_mode": {
    "name": "ipython",
    "version": 3
   },
   "file_extension": ".py",
   "mimetype": "text/x-python",
   "name": "python",
   "nbconvert_exporter": "python",
   "pygments_lexer": "ipython3",
   "version": "3.11.5"
  }
 },
 "nbformat": 4,
 "nbformat_minor": 5
}
