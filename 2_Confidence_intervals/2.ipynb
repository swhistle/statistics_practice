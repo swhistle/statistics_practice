{
 "cells": [
  {
   "cell_type": "code",
   "execution_count": 26,
   "id": "f027f3a8",
   "metadata": {},
   "outputs": [],
   "source": [
    "import scipy\n",
    "import numpy as np"
   ]
  },
  {
   "cell_type": "markdown",
   "id": "efc76185",
   "metadata": {},
   "source": [
    "Задача 4"
   ]
  },
  {
   "cell_type": "code",
   "execution_count": 5,
   "id": "883e7cf0",
   "metadata": {},
   "outputs": [],
   "source": [
    "p_0 = scipy.stats.binom.pmf(0, 10, 0.3)"
   ]
  },
  {
   "cell_type": "code",
   "execution_count": 4,
   "id": "d48b5d59",
   "metadata": {},
   "outputs": [],
   "source": [
    "p_1 = scipy.stats.binom.pmf(1, 10, 0.3)"
   ]
  },
  {
   "cell_type": "code",
   "execution_count": 6,
   "id": "82853903",
   "metadata": {},
   "outputs": [
    {
     "data": {
      "text/plain": [
       "0.1493083458999999"
      ]
     },
     "execution_count": 6,
     "metadata": {},
     "output_type": "execute_result"
    }
   ],
   "source": [
    "p = p_0 + p_1\n",
    "p"
   ]
  },
  {
   "cell_type": "markdown",
   "id": "c1e3ec69",
   "metadata": {},
   "source": [
    "Задача 5"
   ]
  },
  {
   "cell_type": "code",
   "execution_count": 7,
   "id": "4a770b07",
   "metadata": {},
   "outputs": [],
   "source": [
    "p = 0\n",
    "\n",
    "for k in range(0, 101):\n",
    "    p_k = scipy.stats.binom.pmf(k, 1000, 0.3)\n",
    "    p += p_k"
   ]
  },
  {
   "cell_type": "code",
   "execution_count": 8,
   "id": "6fd2be99",
   "metadata": {},
   "outputs": [
    {
     "data": {
      "text/plain": [
       "1.7183404003296046e-52"
      ]
     },
     "execution_count": 8,
     "metadata": {},
     "output_type": "execute_result"
    }
   ],
   "source": [
    "p"
   ]
  },
  {
   "cell_type": "markdown",
   "id": "9d01fbe6",
   "metadata": {},
   "source": [
    "**2 способ**\n",
    "\n",
    "Эта функция показывает, с какой вероятностью случайная величина принимает значение меньшее либо равное указанному. То есть тут даже перебирать значения не нужно.\n",
    "\n",
    "- **Cumulative Distribution Function**"
   ]
  },
  {
   "cell_type": "code",
   "execution_count": 9,
   "id": "4fb61e4f",
   "metadata": {},
   "outputs": [
    {
     "data": {
      "text/plain": [
       "1.7183404003299255e-52"
      ]
     },
     "execution_count": 9,
     "metadata": {},
     "output_type": "execute_result"
    }
   ],
   "source": [
    "p_2 = scipy.stats.binom.cdf(100, 1000, 0.3)\n",
    "p_2"
   ]
  },
  {
   "cell_type": "markdown",
   "id": "bbf5283e",
   "metadata": {},
   "source": [
    "Задание 11"
   ]
  },
  {
   "cell_type": "code",
   "execution_count": 16,
   "id": "879bffa1",
   "metadata": {},
   "outputs": [
    {
     "data": {
      "text/plain": [
       "0.9973002039367398"
      ]
     },
     "execution_count": 16,
     "metadata": {},
     "output_type": "execute_result"
    }
   ],
   "source": [
    "scipy.stats.norm.cdf(3, loc=0, scale=1) - scipy.stats.norm.cdf(-3, loc=0, scale=1)"
   ]
  },
  {
   "cell_type": "markdown",
   "id": "61496839",
   "metadata": {},
   "source": [
    "Задание 13"
   ]
  },
  {
   "cell_type": "code",
   "execution_count": 20,
   "id": "09ec6133",
   "metadata": {},
   "outputs": [],
   "source": [
    "N = 25\n",
    "X = 170\n",
    "sd = 12"
   ]
  },
  {
   "cell_type": "code",
   "execution_count": 21,
   "id": "fa92f8b7",
   "metadata": {},
   "outputs": [
    {
     "data": {
      "text/plain": [
       "2.4"
      ]
     },
     "execution_count": 21,
     "metadata": {},
     "output_type": "execute_result"
    }
   ],
   "source": [
    "se = sd / N ** 0.5\n",
    "se"
   ]
  },
  {
   "cell_type": "code",
   "execution_count": 22,
   "id": "d4e00e07",
   "metadata": {},
   "outputs": [],
   "source": [
    "p_value = 0.05"
   ]
  },
  {
   "cell_type": "code",
   "execution_count": 23,
   "id": "19974806",
   "metadata": {},
   "outputs": [
    {
     "data": {
      "text/plain": [
       "2.0638985616280205"
      ]
     },
     "execution_count": 23,
     "metadata": {},
     "output_type": "execute_result"
    }
   ],
   "source": [
    "t1 = scipy.stats.t.ppf(1 - p_value / 2, N - 1)\n",
    "t1"
   ]
  },
  {
   "cell_type": "code",
   "execution_count": 24,
   "id": "61a85eea",
   "metadata": {},
   "outputs": [
    {
     "data": {
      "text/plain": [
       "(165.04664345209275, 174.95335654790725)"
      ]
     },
     "execution_count": 24,
     "metadata": {},
     "output_type": "execute_result"
    }
   ],
   "source": [
    "Me = (X - t1 * se, X + t1 * se)\n",
    "Me"
   ]
  },
  {
   "cell_type": "markdown",
   "id": "633d869a",
   "metadata": {},
   "source": [
    "Задание 14"
   ]
  },
  {
   "cell_type": "markdown",
   "id": "39ec5af5",
   "metadata": {},
   "source": [
    "```python\n",
    "np.random.poisson(lam, size)\n",
    "```"
   ]
  },
  {
   "cell_type": "code",
   "execution_count": 56,
   "id": "e5c846e7",
   "metadata": {},
   "outputs": [],
   "source": [
    "data = np.random.poisson(lam=50, size=1000)"
   ]
  },
  {
   "cell_type": "code",
   "execution_count": 57,
   "id": "a5224fa0",
   "metadata": {},
   "outputs": [
    {
     "data": {
      "text/plain": [
       "array([55, 55, 52, 49, 54, 54, 49, 60, 45, 64, 56, 53, 50, 41, 59, 49, 62,\n",
       "       47, 45, 52, 44, 55, 53, 52, 47, 49, 39, 46, 55, 43, 47, 49, 49, 53,\n",
       "       51, 60, 41, 43, 61, 54, 53, 49, 42, 55, 45, 51, 45, 46, 56, 66, 57,\n",
       "       51, 45, 36, 44, 50, 48, 53, 39, 54, 52, 55, 42, 49, 63, 48, 50, 46,\n",
       "       55, 48, 46, 55, 46, 51, 54, 38, 45, 57, 55, 57, 67, 34, 39, 52, 51,\n",
       "       53, 37, 33, 60, 49, 65, 41, 51, 64, 52, 52, 48, 43, 51, 44, 49, 59,\n",
       "       44, 50, 41, 59, 54, 45, 58, 35, 36, 54, 58, 45, 40, 46, 59, 63, 44,\n",
       "       49, 51, 43, 46, 46, 57, 52, 52, 39, 55, 40, 53, 53, 54, 61, 48, 39,\n",
       "       56, 52, 46, 42, 55, 46, 50, 44, 53, 59, 48, 47, 58, 62, 51, 37, 59,\n",
       "       37, 63, 56, 64, 55, 47, 38, 69, 53, 62, 44, 67, 47, 50, 56, 49, 47,\n",
       "       48, 49, 56, 63, 45, 68, 44, 52, 45, 51, 57, 51, 52, 50, 49, 45, 58,\n",
       "       64, 57, 61, 49, 53, 46, 60, 53, 43, 53, 47, 44, 59, 53, 45, 51, 48,\n",
       "       49, 46, 37, 55, 58, 47, 47, 43, 50, 54, 51, 52, 44, 40, 49, 56, 48,\n",
       "       59, 39, 45, 64, 65, 52, 55, 57, 42, 57, 51, 51, 47, 39, 56, 43, 38,\n",
       "       50, 59, 58, 57, 44, 43, 42, 61, 36, 63, 54, 58, 50, 43, 49, 53, 41,\n",
       "       39, 44, 52, 48, 58, 62, 44, 48, 57, 56, 57, 57, 58, 44, 60, 60, 50,\n",
       "       67, 44, 59, 53, 43, 44, 50, 45, 53, 42, 53, 65, 53, 53, 64, 60, 52,\n",
       "       43, 43, 45, 56, 49, 54, 55, 48, 49, 48, 57, 44, 48, 56, 47, 61, 40,\n",
       "       60, 36, 51, 50, 53, 60, 45, 67, 56, 55, 32, 53, 57, 57, 58, 50, 44,\n",
       "       48, 47, 54, 47, 50, 37, 50, 42, 54, 56, 46, 30, 48, 53, 45, 57, 52,\n",
       "       48, 51, 52, 53, 58, 48, 54, 44, 50, 67, 42, 46, 49, 56, 43, 49, 32,\n",
       "       63, 43, 45, 65, 43, 53, 50, 62, 43, 50, 47, 53, 48, 49, 52, 47, 54,\n",
       "       45, 42, 55, 41, 56, 39, 52, 50, 59, 52, 50, 59, 49, 44, 40, 48, 41,\n",
       "       53, 43, 36, 40, 48, 44, 60, 51, 51, 56, 47, 47, 47, 56, 58, 51, 50,\n",
       "       53, 69, 64, 49, 56, 50, 34, 46, 54, 48, 46, 58, 41, 39, 58, 51, 58,\n",
       "       46, 43, 52, 52, 53, 53, 49, 50, 48, 46, 51, 59, 49, 45, 49, 57, 48,\n",
       "       41, 57, 43, 55, 50, 50, 47, 44, 46, 65, 61, 48, 56, 44, 42, 37, 51,\n",
       "       60, 47, 52, 46, 48, 58, 60, 46, 56, 43, 45, 54, 61, 46, 45, 50, 50,\n",
       "       50, 47, 49, 49, 39, 56, 55, 44, 41, 55, 55, 49, 50, 64, 57, 52, 51,\n",
       "       50, 31, 46, 45, 43, 49, 60, 51, 45, 46, 39, 45, 51, 45, 60, 54, 63,\n",
       "       45, 59, 50, 48, 53, 56, 53, 55, 55, 56, 49, 44, 62, 53, 46, 50, 59,\n",
       "       57, 60, 45, 50, 45, 43, 59, 54, 63, 61, 48, 50, 55, 60, 66, 64, 60,\n",
       "       59, 47, 50, 56, 35, 45, 41, 50, 59, 50, 56, 44, 51, 55, 47, 50, 49,\n",
       "       47, 59, 33, 40, 72, 46, 52, 47, 46, 49, 35, 49, 38, 43, 51, 52, 45,\n",
       "       32, 50, 55, 48, 49, 48, 40, 67, 55, 38, 53, 37, 47, 38, 43, 67, 50,\n",
       "       60, 49, 58, 56, 37, 61, 56, 44, 65, 43, 57, 47, 45, 55, 43, 45, 52,\n",
       "       53, 54, 57, 51, 54, 44, 50, 57, 50, 40, 55, 47, 53, 67, 42, 46, 53,\n",
       "       56, 51, 54, 44, 51, 70, 37, 53, 52, 56, 61, 57, 62, 45, 43, 28, 54,\n",
       "       51, 48, 50, 55, 47, 29, 49, 54, 51, 43, 36, 57, 58, 38, 51, 52, 53,\n",
       "       49, 48, 50, 53, 55, 60, 36, 40, 64, 42, 54, 57, 46, 65, 37, 47, 53,\n",
       "       49, 52, 52, 58, 43, 50, 46, 30, 55, 56, 43, 58, 52, 50, 43, 53, 51,\n",
       "       51, 45, 55, 54, 54, 57, 55, 51, 43, 53, 58, 50, 59, 58, 50, 42, 44,\n",
       "       54, 48, 42, 60, 61, 59, 55, 49, 39, 59, 50, 46, 49, 47, 42, 42, 42,\n",
       "       50, 55, 53, 43, 49, 43, 66, 57, 55, 54, 46, 57, 54, 52, 44, 44, 42,\n",
       "       45, 62, 42, 52, 57, 49, 65, 57, 44, 47, 41, 47, 53, 52, 51, 37, 43,\n",
       "       59, 50, 58, 52, 57, 47, 60, 44, 52, 56, 48, 45, 48, 56, 49, 48, 56,\n",
       "       43, 50, 55, 41, 65, 38, 51, 58, 56, 62, 57, 51, 44, 56, 52, 39, 47,\n",
       "       58, 33, 59, 50, 40, 51, 47, 50, 61, 53, 59, 49, 66, 41, 41, 39, 50,\n",
       "       57, 54, 69, 45, 46, 55, 62, 50, 52, 51, 65, 47, 54, 44, 46, 60, 42,\n",
       "       52, 45, 58, 54, 58, 57, 49, 54, 31, 50, 45, 51, 55, 44, 44, 46, 48,\n",
       "       48, 46, 56, 53, 55, 49, 36, 40, 59, 42, 42, 51, 50, 45, 51, 54, 45,\n",
       "       51, 50, 44, 53, 46, 57, 62, 43, 30, 51, 57, 51, 52, 56, 52, 50, 38,\n",
       "       54, 54, 52, 57, 41, 46, 46, 58, 53, 49, 52, 62, 51, 42, 55, 45, 53,\n",
       "       43, 43, 60, 60, 54, 47, 53, 49, 60, 51, 58, 40, 52, 50, 59, 57, 49,\n",
       "       48, 51, 54, 53, 47, 48, 43, 51, 52, 56, 37, 60, 46, 41, 52, 40, 59,\n",
       "       60, 42, 44, 57, 45, 55, 47, 52, 62, 47, 47, 40, 41, 34, 57, 59, 50,\n",
       "       48, 45, 59, 52, 60, 57, 49, 57, 45, 59, 59, 63, 51, 50, 62, 53, 36,\n",
       "       47, 43, 59, 58, 49, 49, 56, 58, 51, 57, 39, 53, 54, 48, 40, 49, 51,\n",
       "       60, 53, 37, 60, 45, 39, 57, 54, 57, 42, 45, 57, 37, 57])"
      ]
     },
     "execution_count": 57,
     "metadata": {},
     "output_type": "execute_result"
    }
   ],
   "source": [
    "data"
   ]
  },
  {
   "cell_type": "code",
   "execution_count": 58,
   "id": "0adaebc7",
   "metadata": {},
   "outputs": [
    {
     "data": {
      "text/plain": [
       "50.475"
      ]
     },
     "execution_count": 58,
     "metadata": {},
     "output_type": "execute_result"
    }
   ],
   "source": [
    "x = np.mean(data)\n",
    "x"
   ]
  },
  {
   "cell_type": "code",
   "execution_count": 59,
   "id": "3e0d0bce",
   "metadata": {},
   "outputs": [
    {
     "data": {
      "text/plain": [
       "7.2576425235747175"
      ]
     },
     "execution_count": 59,
     "metadata": {},
     "output_type": "execute_result"
    }
   ],
   "source": [
    "std = np.std(data)\n",
    "std"
   ]
  },
  {
   "cell_type": "code",
   "execution_count": 60,
   "id": "d8d8f16b",
   "metadata": {},
   "outputs": [
    {
     "data": {
      "text/plain": [
       "0.2295068081778839"
      ]
     },
     "execution_count": 60,
     "metadata": {},
     "output_type": "execute_result"
    }
   ],
   "source": [
    "se = std / 1000 ** 0.5\n",
    "se"
   ]
  },
  {
   "cell_type": "code",
   "execution_count": 61,
   "id": "12eca190",
   "metadata": {},
   "outputs": [
    {
     "data": {
      "text/plain": [
       "1.959963984540054"
      ]
     },
     "execution_count": 61,
     "metadata": {},
     "output_type": "execute_result"
    }
   ],
   "source": [
    "z = scipy.stats.norm.ppf(1 - 0.025)\n",
    "z"
   ]
  },
  {
   "cell_type": "code",
   "execution_count": 62,
   "id": "33881096",
   "metadata": {},
   "outputs": [
    {
     "data": {
      "text/plain": [
       "(50.02517492176461, 50.92482507823539)"
      ]
     },
     "execution_count": 62,
     "metadata": {},
     "output_type": "execute_result"
    }
   ],
   "source": [
    "Me = (x - z * se, x + z * se)\n",
    "Me"
   ]
  },
  {
   "cell_type": "code",
   "execution_count": 63,
   "id": "aaadac77",
   "metadata": {},
   "outputs": [
    {
     "data": {
      "text/plain": [
       "0.8996501564707842"
      ]
     },
     "execution_count": 63,
     "metadata": {},
     "output_type": "execute_result"
    }
   ],
   "source": [
    "x_range = Me[1] - Me[0]\n",
    "x_range"
   ]
  },
  {
   "cell_type": "markdown",
   "id": "f4b6668a",
   "metadata": {},
   "source": [
    "Задание 15"
   ]
  },
  {
   "cell_type": "code",
   "execution_count": 74,
   "id": "b0073625",
   "metadata": {},
   "outputs": [],
   "source": [
    "# Выполнение бутстрэпа для вычисления доверительного интервала\n",
    "bootstrap_samples = scipy.stats.bootstrap(data=(data,), statistic=np.std, n_resamples=1000, confidence_level=0.95, method='percentile', axis=0)"
   ]
  },
  {
   "cell_type": "code",
   "execution_count": 76,
   "id": "c2f1102f",
   "metadata": {},
   "outputs": [
    {
     "data": {
      "text/plain": [
       "ConfidenceInterval(low=6.940778628312448, high=7.569876039957306)"
      ]
     },
     "execution_count": 76,
     "metadata": {},
     "output_type": "execute_result"
    }
   ],
   "source": [
    "bootstrap_samples.confidence_interval"
   ]
  },
  {
   "cell_type": "markdown",
   "id": "a153314e",
   "metadata": {},
   "source": [
    "Задание 16"
   ]
  },
  {
   "cell_type": "code",
   "execution_count": 84,
   "id": "69412152",
   "metadata": {},
   "outputs": [],
   "source": [
    "from sklearn.datasets import fetch_california_housing"
   ]
  },
  {
   "cell_type": "code",
   "execution_count": 86,
   "id": "458c7448",
   "metadata": {},
   "outputs": [],
   "source": [
    "import os, ssl\n",
    "if (not os.environ.get('PYTHONHTTPSVERIFY', '') and\n",
    "    getattr(ssl, '_create_unverified_context', None)): \n",
    "    ssl._create_default_https_context = ssl._create_unverified_context\n",
    "\n",
    "X, y = fetch_california_housing(return_X_y=True, as_frame=True)"
   ]
  },
  {
   "cell_type": "code",
   "execution_count": 93,
   "id": "04e96a57",
   "metadata": {},
   "outputs": [],
   "source": [
    "bootstrap_samples = scipy.stats.bootstrap(data=(y,), statistic=np.std, n_resamples=1000, confidence_level=0.95, method='percentile', axis=0)"
   ]
  },
  {
   "cell_type": "code",
   "execution_count": 94,
   "id": "de39038d",
   "metadata": {},
   "outputs": [
    {
     "data": {
      "text/plain": [
       "ConfidenceInterval(low=1.1423007517271648, high=1.1653336638856175)"
      ]
     },
     "execution_count": 94,
     "metadata": {},
     "output_type": "execute_result"
    }
   ],
   "source": [
    "bootstrap_samples.confidence_interval"
   ]
  },
  {
   "cell_type": "code",
   "execution_count": 96,
   "id": "73dc8795",
   "metadata": {},
   "outputs": [
    {
     "data": {
      "text/plain": [
       "0.14999"
      ]
     },
     "execution_count": 96,
     "metadata": {},
     "output_type": "execute_result"
    }
   ],
   "source": [
    "min(y)"
   ]
  },
  {
   "cell_type": "code",
   "execution_count": 97,
   "id": "626f6f97",
   "metadata": {},
   "outputs": [
    {
     "data": {
      "text/plain": [
       "5.00001"
      ]
     },
     "execution_count": 97,
     "metadata": {},
     "output_type": "execute_result"
    }
   ],
   "source": [
    "max(y)"
   ]
  },
  {
   "cell_type": "code",
   "execution_count": 108,
   "id": "5d5e8634",
   "metadata": {},
   "outputs": [
    {
     "data": {
      "text/plain": [
       "2.068558169089147"
      ]
     },
     "execution_count": 108,
     "metadata": {},
     "output_type": "execute_result"
    }
   ],
   "source": [
    "np.mean(y)"
   ]
  },
  {
   "cell_type": "code",
   "execution_count": 120,
   "id": "e38506b5",
   "metadata": {},
   "outputs": [],
   "source": [
    "mu = 3\n",
    "sd = 4\n",
    "size = 1000\n",
    "iterations = 1001\n",
    "\n",
    "se = sd / size ** 0.5\n",
    "\n",
    "results = []\n",
    "\n",
    "for _ in range(iterations):\n",
    "    data = np.random.normal(loc=mu, scale=se, size=size)\n",
    "\n",
    "    bootstrap_samples = scipy.stats.bootstrap(data=(data,), statistic=np.mean, n_resamples=1000, confidence_level=0.95, method='percentile', axis=0)\n",
    "\n",
    "    ci_l = bootstrap_samples.confidence_interval.low\n",
    "    ci_h = bootstrap_samples.confidence_interval.high\n",
    "\n",
    "    is_true = ci_l <= mu <= ci_h\n",
    "\n",
    "    results.append(is_true)"
   ]
  },
  {
   "cell_type": "code",
   "execution_count": 124,
   "id": "3651f7be",
   "metadata": {},
   "outputs": [],
   "source": [
    "n_success = sum(results)"
   ]
  },
  {
   "cell_type": "code",
   "execution_count": 122,
   "id": "e78a8951",
   "metadata": {},
   "outputs": [
    {
     "data": {
      "text/plain": [
       "2.989951571023775"
      ]
     },
     "execution_count": 122,
     "metadata": {},
     "output_type": "execute_result"
    }
   ],
   "source": [
    "ci_l"
   ]
  },
  {
   "cell_type": "code",
   "execution_count": 123,
   "id": "0db3ffc6",
   "metadata": {},
   "outputs": [
    {
     "data": {
      "text/plain": [
       "3.0062082483499584"
      ]
     },
     "execution_count": 123,
     "metadata": {},
     "output_type": "execute_result"
    }
   ],
   "source": [
    "ci_h"
   ]
  },
  {
   "cell_type": "code",
   "execution_count": 125,
   "id": "2cb568ee",
   "metadata": {},
   "outputs": [
    {
     "data": {
      "text/plain": [
       "0.946"
      ]
     },
     "execution_count": 125,
     "metadata": {},
     "output_type": "execute_result"
    }
   ],
   "source": [
    "res = n_success / size\n",
    "res"
   ]
  }
 ],
 "metadata": {
  "colab": {
   "collapsed_sections": [],
   "name": "HW_2.ipynb",
   "provenance": []
  },
  "kernelspec": {
   "display_name": "Python 3",
   "language": "python",
   "name": "python3"
  },
  "language_info": {
   "codemirror_mode": {
    "name": "ipython",
    "version": 3
   },
   "file_extension": ".py",
   "mimetype": "text/x-python",
   "name": "python",
   "nbconvert_exporter": "python",
   "pygments_lexer": "ipython3",
   "version": "3.11.5"
  }
 },
 "nbformat": 4,
 "nbformat_minor": 5
}
